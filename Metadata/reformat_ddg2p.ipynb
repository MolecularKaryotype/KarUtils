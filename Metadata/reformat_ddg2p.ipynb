{
 "cells": [
  {
   "cell_type": "code",
   "execution_count": 5,
   "id": "initial_id",
   "metadata": {},
   "outputs": [],
   "source": [
    "import pandas as pd"
   ]
  },
  {
   "cell_type": "code",
   "execution_count": 7,
   "id": "7cd3374f",
   "metadata": {},
   "outputs": [],
   "source": [
    "df = pd.read_csv('DDG2P_14_11_2023.csv', sep='\\t')"
   ]
  },
  {
   "cell_type": "code",
   "execution_count": 21,
   "id": "5db9c370",
   "metadata": {},
   "outputs": [],
   "source": [
    "def rename_allelic_requirement(df_row):\n",
    "    a = df_row['allelic requirement']\n",
    "    a_p = a.replace('X_hem', 'Xhem')\n",
    "    a_p = a_p.replace('_', ' ')\n",
    "    return a_p\n",
    "\n",
    "def rename_organ(df_row):\n",
    "    a = str(df_row['organ specificity list'])\n",
    "    a_p = a.replace(';', '; ')\n",
    "    return a_p"
   ]
  },
  {
   "cell_type": "code",
   "execution_count": 22,
   "id": "889bc8e9",
   "metadata": {},
   "outputs": [],
   "source": [
    "df['allelic requirement'] = df.apply(lambda r: rename_allelic_requirement(r), axis=1)"
   ]
  },
  {
   "cell_type": "code",
   "execution_count": 23,
   "id": "86f49179",
   "metadata": {},
   "outputs": [],
   "source": [
    "df['organ specificity list'] = df.apply(lambda r: rename_organ(r), axis=1)"
   ]
  },
  {
   "cell_type": "code",
   "execution_count": 25,
   "id": "b45b5091",
   "metadata": {},
   "outputs": [],
   "source": [
    "df.to_csv('DDG2P_14_11_2023.csv', sep='\\t', index=False)"
   ]
  },
  {
   "cell_type": "code",
   "execution_count": null,
   "id": "a0f4f6d9",
   "metadata": {},
   "outputs": [],
   "source": []
  }
 ],
 "metadata": {
  "kernelspec": {
   "display_name": "Python 3 (ipykernel)",
   "language": "python",
   "name": "python3"
  },
  "language_info": {
   "codemirror_mode": {
    "name": "ipython",
    "version": 3
   },
   "file_extension": ".py",
   "mimetype": "text/x-python",
   "name": "python",
   "nbconvert_exporter": "python",
   "pygments_lexer": "ipython3",
   "version": "3.9.12"
  }
 },
 "nbformat": 4,
 "nbformat_minor": 5
}
