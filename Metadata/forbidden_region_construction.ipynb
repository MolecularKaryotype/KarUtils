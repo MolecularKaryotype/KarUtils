{
 "cells": [
  {
   "cell_type": "code",
   "id": "initial_id",
   "metadata": {
    "collapsed": true,
    "ExecuteTime": {
     "end_time": "2024-09-16T20:49:31.879470Z",
     "start_time": "2024-09-16T20:49:31.304341Z"
    }
   },
   "source": "import pandas as pd",
   "outputs": [],
   "execution_count": 1
  },
  {
   "metadata": {
    "ExecuteTime": {
     "end_time": "2024-09-16T20:49:31.990496Z",
     "start_time": "2024-09-16T20:49:31.883471Z"
    }
   },
   "cell_type": "code",
   "source": [
    "sv_solve37 = pd.read_csv('Bionano_hg38_masks/hg38_DLE1_gap_common_segdup_min10_com10kb_seg50kb_solve3.7.bed', sep='\\t', header=None)\n",
    "cnv_mask = pd.read_csv('Bionano_hg38_masks/hg38_cnv_masks.bed', sep='\\t')\n",
    "superdup = pd.read_csv('Bionano_hg38_masks/genomicSuperDups.bed', sep='\\t', header=None)\n",
    "ATC = pd.read_csv('acrocentric_telo_cen.bed', sep='\\t')"
   ],
   "id": "a801facc01600012",
   "outputs": [],
   "execution_count": 2
  },
  {
   "metadata": {},
   "cell_type": "markdown",
   "source": [
    "# preprocess SV masks\n",
    "we drop the following columns\n",
    "- seems like column 1 == 6, 2 == 7 are duplicate info \n",
    "- seems like col 5 == '.' is useless info\n",
    "- seems like col 8 is a color info for display\n",
    "- seems like col 4 is an ID\n",
    "\n"
   ],
   "id": "d23f087cc6715e0e"
  },
  {
   "metadata": {
    "ExecuteTime": {
     "end_time": "2024-09-16T20:49:32.129526Z",
     "start_time": "2024-09-16T20:49:32.116524Z"
    }
   },
   "cell_type": "code",
   "source": [
    "sv_solve37 = sv_solve37.drop(columns=[4, 5, 6, 7, 8])\n",
    "sv_solve37.columns = ['Chr', 'StartPos', 'EndPos', 'Type']"
   ],
   "id": "686f4b6afdc48341",
   "outputs": [],
   "execution_count": 3
  },
  {
   "metadata": {
    "ExecuteTime": {
     "end_time": "2024-09-16T20:49:32.191552Z",
     "start_time": "2024-09-16T20:49:32.163535Z"
    }
   },
   "cell_type": "code",
   "source": "sv_solve37",
   "id": "e3a6797d9e71d1a8",
   "outputs": [
    {
     "data": {
      "text/plain": [
       "      Chr  StartPos    EndPos     Type\n",
       "0       1         1     10000      gap\n",
       "1       1    207667    257666      gap\n",
       "2       1    297969    347968      gap\n",
       "3       1    535989    585988      gap\n",
       "4       1   2702782   2746290      gap\n",
       "...   ...       ...       ...      ...\n",
       "2315   24  25545548  26311622  segdupe\n",
       "2316   24  25566691  25686389  segdupe\n",
       "2317   24  25600000  25686389  segdupe\n",
       "2318   24  25967291  26135950  segdupe\n",
       "2319   24  25967291  26196584  segdupe\n",
       "\n",
       "[2320 rows x 4 columns]"
      ],
      "text/html": [
       "<div>\n",
       "<style scoped>\n",
       "    .dataframe tbody tr th:only-of-type {\n",
       "        vertical-align: middle;\n",
       "    }\n",
       "\n",
       "    .dataframe tbody tr th {\n",
       "        vertical-align: top;\n",
       "    }\n",
       "\n",
       "    .dataframe thead th {\n",
       "        text-align: right;\n",
       "    }\n",
       "</style>\n",
       "<table border=\"1\" class=\"dataframe\">\n",
       "  <thead>\n",
       "    <tr style=\"text-align: right;\">\n",
       "      <th></th>\n",
       "      <th>Chr</th>\n",
       "      <th>StartPos</th>\n",
       "      <th>EndPos</th>\n",
       "      <th>Type</th>\n",
       "    </tr>\n",
       "  </thead>\n",
       "  <tbody>\n",
       "    <tr>\n",
       "      <th>0</th>\n",
       "      <td>1</td>\n",
       "      <td>1</td>\n",
       "      <td>10000</td>\n",
       "      <td>gap</td>\n",
       "    </tr>\n",
       "    <tr>\n",
       "      <th>1</th>\n",
       "      <td>1</td>\n",
       "      <td>207667</td>\n",
       "      <td>257666</td>\n",
       "      <td>gap</td>\n",
       "    </tr>\n",
       "    <tr>\n",
       "      <th>2</th>\n",
       "      <td>1</td>\n",
       "      <td>297969</td>\n",
       "      <td>347968</td>\n",
       "      <td>gap</td>\n",
       "    </tr>\n",
       "    <tr>\n",
       "      <th>3</th>\n",
       "      <td>1</td>\n",
       "      <td>535989</td>\n",
       "      <td>585988</td>\n",
       "      <td>gap</td>\n",
       "    </tr>\n",
       "    <tr>\n",
       "      <th>4</th>\n",
       "      <td>1</td>\n",
       "      <td>2702782</td>\n",
       "      <td>2746290</td>\n",
       "      <td>gap</td>\n",
       "    </tr>\n",
       "    <tr>\n",
       "      <th>...</th>\n",
       "      <td>...</td>\n",
       "      <td>...</td>\n",
       "      <td>...</td>\n",
       "      <td>...</td>\n",
       "    </tr>\n",
       "    <tr>\n",
       "      <th>2315</th>\n",
       "      <td>24</td>\n",
       "      <td>25545548</td>\n",
       "      <td>26311622</td>\n",
       "      <td>segdupe</td>\n",
       "    </tr>\n",
       "    <tr>\n",
       "      <th>2316</th>\n",
       "      <td>24</td>\n",
       "      <td>25566691</td>\n",
       "      <td>25686389</td>\n",
       "      <td>segdupe</td>\n",
       "    </tr>\n",
       "    <tr>\n",
       "      <th>2317</th>\n",
       "      <td>24</td>\n",
       "      <td>25600000</td>\n",
       "      <td>25686389</td>\n",
       "      <td>segdupe</td>\n",
       "    </tr>\n",
       "    <tr>\n",
       "      <th>2318</th>\n",
       "      <td>24</td>\n",
       "      <td>25967291</td>\n",
       "      <td>26135950</td>\n",
       "      <td>segdupe</td>\n",
       "    </tr>\n",
       "    <tr>\n",
       "      <th>2319</th>\n",
       "      <td>24</td>\n",
       "      <td>25967291</td>\n",
       "      <td>26196584</td>\n",
       "      <td>segdupe</td>\n",
       "    </tr>\n",
       "  </tbody>\n",
       "</table>\n",
       "<p>2320 rows × 4 columns</p>\n",
       "</div>"
      ]
     },
     "execution_count": 4,
     "metadata": {},
     "output_type": "execute_result"
    }
   ],
   "execution_count": 4
  },
  {
   "metadata": {},
   "cell_type": "markdown",
   "source": "# preprocess CNV mask",
   "id": "905e20ade2d122c0"
  },
  {
   "metadata": {
    "ExecuteTime": {
     "end_time": "2024-09-16T20:49:32.316569Z",
     "start_time": "2024-09-16T20:49:32.302566Z"
    }
   },
   "cell_type": "code",
   "source": [
    "cnv_mask['StartPos'] = cnv_mask['StartPos'].apply(int)\n",
    "cnv_mask['EndPos'] = cnv_mask['EndPos'].apply(int)\n",
    "cnv_mask['Type'] = 'cnv'"
   ],
   "id": "e1d87686cd6b0b47",
   "outputs": [],
   "execution_count": 5
  },
  {
   "metadata": {
    "ExecuteTime": {
     "end_time": "2024-09-16T20:49:32.453600Z",
     "start_time": "2024-09-16T20:49:32.436596Z"
    }
   },
   "cell_type": "code",
   "source": "cnv_mask",
   "id": "a6006d53fe17cede",
   "outputs": [
    {
     "data": {
      "text/plain": [
       "     Chr  StartPos    EndPos Type\n",
       "0      1     14453   1674800  cnv\n",
       "1      1   1899027   3864922  cnv\n",
       "2      1   4085621   4285615  cnv\n",
       "3      1   4920445   5092120  cnv\n",
       "4      1   5330209   5493329  cnv\n",
       "..   ...       ...       ...  ...\n",
       "382   24  15800000  16122374  cnv\n",
       "383   24  16155235  20893633  cnv\n",
       "384   24  20916193  21144650  cnv\n",
       "385   24  21180878  22737164  cnv\n",
       "386   24  22775171  57227415  cnv\n",
       "\n",
       "[387 rows x 4 columns]"
      ],
      "text/html": [
       "<div>\n",
       "<style scoped>\n",
       "    .dataframe tbody tr th:only-of-type {\n",
       "        vertical-align: middle;\n",
       "    }\n",
       "\n",
       "    .dataframe tbody tr th {\n",
       "        vertical-align: top;\n",
       "    }\n",
       "\n",
       "    .dataframe thead th {\n",
       "        text-align: right;\n",
       "    }\n",
       "</style>\n",
       "<table border=\"1\" class=\"dataframe\">\n",
       "  <thead>\n",
       "    <tr style=\"text-align: right;\">\n",
       "      <th></th>\n",
       "      <th>Chr</th>\n",
       "      <th>StartPos</th>\n",
       "      <th>EndPos</th>\n",
       "      <th>Type</th>\n",
       "    </tr>\n",
       "  </thead>\n",
       "  <tbody>\n",
       "    <tr>\n",
       "      <th>0</th>\n",
       "      <td>1</td>\n",
       "      <td>14453</td>\n",
       "      <td>1674800</td>\n",
       "      <td>cnv</td>\n",
       "    </tr>\n",
       "    <tr>\n",
       "      <th>1</th>\n",
       "      <td>1</td>\n",
       "      <td>1899027</td>\n",
       "      <td>3864922</td>\n",
       "      <td>cnv</td>\n",
       "    </tr>\n",
       "    <tr>\n",
       "      <th>2</th>\n",
       "      <td>1</td>\n",
       "      <td>4085621</td>\n",
       "      <td>4285615</td>\n",
       "      <td>cnv</td>\n",
       "    </tr>\n",
       "    <tr>\n",
       "      <th>3</th>\n",
       "      <td>1</td>\n",
       "      <td>4920445</td>\n",
       "      <td>5092120</td>\n",
       "      <td>cnv</td>\n",
       "    </tr>\n",
       "    <tr>\n",
       "      <th>4</th>\n",
       "      <td>1</td>\n",
       "      <td>5330209</td>\n",
       "      <td>5493329</td>\n",
       "      <td>cnv</td>\n",
       "    </tr>\n",
       "    <tr>\n",
       "      <th>...</th>\n",
       "      <td>...</td>\n",
       "      <td>...</td>\n",
       "      <td>...</td>\n",
       "      <td>...</td>\n",
       "    </tr>\n",
       "    <tr>\n",
       "      <th>382</th>\n",
       "      <td>24</td>\n",
       "      <td>15800000</td>\n",
       "      <td>16122374</td>\n",
       "      <td>cnv</td>\n",
       "    </tr>\n",
       "    <tr>\n",
       "      <th>383</th>\n",
       "      <td>24</td>\n",
       "      <td>16155235</td>\n",
       "      <td>20893633</td>\n",
       "      <td>cnv</td>\n",
       "    </tr>\n",
       "    <tr>\n",
       "      <th>384</th>\n",
       "      <td>24</td>\n",
       "      <td>20916193</td>\n",
       "      <td>21144650</td>\n",
       "      <td>cnv</td>\n",
       "    </tr>\n",
       "    <tr>\n",
       "      <th>385</th>\n",
       "      <td>24</td>\n",
       "      <td>21180878</td>\n",
       "      <td>22737164</td>\n",
       "      <td>cnv</td>\n",
       "    </tr>\n",
       "    <tr>\n",
       "      <th>386</th>\n",
       "      <td>24</td>\n",
       "      <td>22775171</td>\n",
       "      <td>57227415</td>\n",
       "      <td>cnv</td>\n",
       "    </tr>\n",
       "  </tbody>\n",
       "</table>\n",
       "<p>387 rows × 4 columns</p>\n",
       "</div>"
      ]
     },
     "execution_count": 6,
     "metadata": {},
     "output_type": "execute_result"
    }
   ],
   "execution_count": 6
  },
  {
   "metadata": {},
   "cell_type": "markdown",
   "source": [
    "# preprocess Superdups\n",
    "we drop the following columns\n",
    "- seems like column 1 == 6, 2 == 7 are duplicate info \n",
    "- seems like col 4 == '+' is useless info\n",
    "- seems like col 8 is a color info for display\n",
    "- seems like col 3 is an ID\n"
   ],
   "id": "c4809d18f0fcad6c"
  },
  {
   "metadata": {
    "ExecuteTime": {
     "end_time": "2024-09-16T20:49:32.674650Z",
     "start_time": "2024-09-16T20:49:32.646644Z"
    }
   },
   "cell_type": "code",
   "source": [
    "superdup = superdup.drop(columns=[3,4,5,6,7,8])\n",
    "superdup.columns = ['Chr', 'StartPos', 'EndPos']\n",
    "superdup['Type'] = 'superdup'"
   ],
   "id": "e9bf30935cae0812",
   "outputs": [],
   "execution_count": 7
  },
  {
   "metadata": {
    "ExecuteTime": {
     "end_time": "2024-09-16T20:49:32.888698Z",
     "start_time": "2024-09-16T20:49:32.870694Z"
    }
   },
   "cell_type": "code",
   "source": "superdup",
   "id": "bfa47e2d9035936e",
   "outputs": [
    {
     "data": {
      "text/plain": [
       "       Chr  StartPos    EndPos      Type\n",
       "0        1     10000     87112  superdup\n",
       "1        1     10000     20818  superdup\n",
       "2        1     10000     19844  superdup\n",
       "3        1     10169     37148  superdup\n",
       "4        1     10464     40733  superdup\n",
       "...    ...       ...       ...       ...\n",
       "64211   24  56862674  56866758  superdup\n",
       "64212   24  56862674  56866758  superdup\n",
       "64213   24  56866349  56867465  superdup\n",
       "64214   24  56878710  56879827  superdup\n",
       "64215   24  56881292  56887120  superdup\n",
       "\n",
       "[64216 rows x 4 columns]"
      ],
      "text/html": [
       "<div>\n",
       "<style scoped>\n",
       "    .dataframe tbody tr th:only-of-type {\n",
       "        vertical-align: middle;\n",
       "    }\n",
       "\n",
       "    .dataframe tbody tr th {\n",
       "        vertical-align: top;\n",
       "    }\n",
       "\n",
       "    .dataframe thead th {\n",
       "        text-align: right;\n",
       "    }\n",
       "</style>\n",
       "<table border=\"1\" class=\"dataframe\">\n",
       "  <thead>\n",
       "    <tr style=\"text-align: right;\">\n",
       "      <th></th>\n",
       "      <th>Chr</th>\n",
       "      <th>StartPos</th>\n",
       "      <th>EndPos</th>\n",
       "      <th>Type</th>\n",
       "    </tr>\n",
       "  </thead>\n",
       "  <tbody>\n",
       "    <tr>\n",
       "      <th>0</th>\n",
       "      <td>1</td>\n",
       "      <td>10000</td>\n",
       "      <td>87112</td>\n",
       "      <td>superdup</td>\n",
       "    </tr>\n",
       "    <tr>\n",
       "      <th>1</th>\n",
       "      <td>1</td>\n",
       "      <td>10000</td>\n",
       "      <td>20818</td>\n",
       "      <td>superdup</td>\n",
       "    </tr>\n",
       "    <tr>\n",
       "      <th>2</th>\n",
       "      <td>1</td>\n",
       "      <td>10000</td>\n",
       "      <td>19844</td>\n",
       "      <td>superdup</td>\n",
       "    </tr>\n",
       "    <tr>\n",
       "      <th>3</th>\n",
       "      <td>1</td>\n",
       "      <td>10169</td>\n",
       "      <td>37148</td>\n",
       "      <td>superdup</td>\n",
       "    </tr>\n",
       "    <tr>\n",
       "      <th>4</th>\n",
       "      <td>1</td>\n",
       "      <td>10464</td>\n",
       "      <td>40733</td>\n",
       "      <td>superdup</td>\n",
       "    </tr>\n",
       "    <tr>\n",
       "      <th>...</th>\n",
       "      <td>...</td>\n",
       "      <td>...</td>\n",
       "      <td>...</td>\n",
       "      <td>...</td>\n",
       "    </tr>\n",
       "    <tr>\n",
       "      <th>64211</th>\n",
       "      <td>24</td>\n",
       "      <td>56862674</td>\n",
       "      <td>56866758</td>\n",
       "      <td>superdup</td>\n",
       "    </tr>\n",
       "    <tr>\n",
       "      <th>64212</th>\n",
       "      <td>24</td>\n",
       "      <td>56862674</td>\n",
       "      <td>56866758</td>\n",
       "      <td>superdup</td>\n",
       "    </tr>\n",
       "    <tr>\n",
       "      <th>64213</th>\n",
       "      <td>24</td>\n",
       "      <td>56866349</td>\n",
       "      <td>56867465</td>\n",
       "      <td>superdup</td>\n",
       "    </tr>\n",
       "    <tr>\n",
       "      <th>64214</th>\n",
       "      <td>24</td>\n",
       "      <td>56878710</td>\n",
       "      <td>56879827</td>\n",
       "      <td>superdup</td>\n",
       "    </tr>\n",
       "    <tr>\n",
       "      <th>64215</th>\n",
       "      <td>24</td>\n",
       "      <td>56881292</td>\n",
       "      <td>56887120</td>\n",
       "      <td>superdup</td>\n",
       "    </tr>\n",
       "  </tbody>\n",
       "</table>\n",
       "<p>64216 rows × 4 columns</p>\n",
       "</div>"
      ]
     },
     "execution_count": 8,
     "metadata": {},
     "output_type": "execute_result"
    }
   ],
   "execution_count": 8
  },
  {
   "metadata": {},
   "cell_type": "markdown",
   "source": [
    "# Preprocess acrocentric-telo-cen\n",
    "- Bionano's masking regions are 1-based indexed"
   ],
   "id": "b8d59aadba447d68"
  },
  {
   "metadata": {
    "ExecuteTime": {
     "end_time": "2024-09-16T20:49:33.189766Z",
     "start_time": "2024-09-16T20:49:33.162761Z"
    }
   },
   "cell_type": "code",
   "source": [
    "type_mapping = {\"telomere1\": 'T1', 'telomere2': 'T2', 'centromere': 'CEN', 'acrocentric-telomere1': 'AT1', 'acrocentric-centromere': 'ACEN', 'acrocentric': 'AR'}\n",
    "ATC['Type'] = ATC['Type'].map(type_mapping)\n",
    "ATC['Chr'] = ATC['Chr'].apply(lambda x: x.replace('Chr', ''))\n",
    "ATC['Chr'] = ATC['Chr'].apply(lambda x: x.replace('X', '23').replace('Y', '24'))\n",
    "ATC['Chr'] = ATC['Chr'].apply(int)\n",
    "ATC['StartPos'] = ATC['StartPos'] + 1\n",
    "ATC['EndPos'] = ATC['EndPos'] + 1"
   ],
   "id": "9849a2a3e5f8072b",
   "outputs": [],
   "execution_count": 9
  },
  {
   "metadata": {
    "ExecuteTime": {
     "end_time": "2024-09-16T20:49:33.424819Z",
     "start_time": "2024-09-16T20:49:33.410815Z"
    }
   },
   "cell_type": "code",
   "source": "ATC",
   "id": "313961a8773cdc1a",
   "outputs": [
    {
     "data": {
      "text/plain": [
       "    Chr   StartPos     EndPos Type\n",
       "0     1          1      10000   T1\n",
       "1     1  122026461  125184588  CEN\n",
       "2     1  248946423  248956422   T2\n",
       "3     2          1      10000   T1\n",
       "4     2   92188147   94090558  CEN\n",
       "..  ...        ...        ...  ...\n",
       "69   23   58605581   62412543  CEN\n",
       "70   23  156030896  156040895   T2\n",
       "71   24          1      10000   T1\n",
       "72   24   10316946   10544040  CEN\n",
       "73   24   57217416   57227415   T2\n",
       "\n",
       "[74 rows x 4 columns]"
      ],
      "text/html": [
       "<div>\n",
       "<style scoped>\n",
       "    .dataframe tbody tr th:only-of-type {\n",
       "        vertical-align: middle;\n",
       "    }\n",
       "\n",
       "    .dataframe tbody tr th {\n",
       "        vertical-align: top;\n",
       "    }\n",
       "\n",
       "    .dataframe thead th {\n",
       "        text-align: right;\n",
       "    }\n",
       "</style>\n",
       "<table border=\"1\" class=\"dataframe\">\n",
       "  <thead>\n",
       "    <tr style=\"text-align: right;\">\n",
       "      <th></th>\n",
       "      <th>Chr</th>\n",
       "      <th>StartPos</th>\n",
       "      <th>EndPos</th>\n",
       "      <th>Type</th>\n",
       "    </tr>\n",
       "  </thead>\n",
       "  <tbody>\n",
       "    <tr>\n",
       "      <th>0</th>\n",
       "      <td>1</td>\n",
       "      <td>1</td>\n",
       "      <td>10000</td>\n",
       "      <td>T1</td>\n",
       "    </tr>\n",
       "    <tr>\n",
       "      <th>1</th>\n",
       "      <td>1</td>\n",
       "      <td>122026461</td>\n",
       "      <td>125184588</td>\n",
       "      <td>CEN</td>\n",
       "    </tr>\n",
       "    <tr>\n",
       "      <th>2</th>\n",
       "      <td>1</td>\n",
       "      <td>248946423</td>\n",
       "      <td>248956422</td>\n",
       "      <td>T2</td>\n",
       "    </tr>\n",
       "    <tr>\n",
       "      <th>3</th>\n",
       "      <td>2</td>\n",
       "      <td>1</td>\n",
       "      <td>10000</td>\n",
       "      <td>T1</td>\n",
       "    </tr>\n",
       "    <tr>\n",
       "      <th>4</th>\n",
       "      <td>2</td>\n",
       "      <td>92188147</td>\n",
       "      <td>94090558</td>\n",
       "      <td>CEN</td>\n",
       "    </tr>\n",
       "    <tr>\n",
       "      <th>...</th>\n",
       "      <td>...</td>\n",
       "      <td>...</td>\n",
       "      <td>...</td>\n",
       "      <td>...</td>\n",
       "    </tr>\n",
       "    <tr>\n",
       "      <th>69</th>\n",
       "      <td>23</td>\n",
       "      <td>58605581</td>\n",
       "      <td>62412543</td>\n",
       "      <td>CEN</td>\n",
       "    </tr>\n",
       "    <tr>\n",
       "      <th>70</th>\n",
       "      <td>23</td>\n",
       "      <td>156030896</td>\n",
       "      <td>156040895</td>\n",
       "      <td>T2</td>\n",
       "    </tr>\n",
       "    <tr>\n",
       "      <th>71</th>\n",
       "      <td>24</td>\n",
       "      <td>1</td>\n",
       "      <td>10000</td>\n",
       "      <td>T1</td>\n",
       "    </tr>\n",
       "    <tr>\n",
       "      <th>72</th>\n",
       "      <td>24</td>\n",
       "      <td>10316946</td>\n",
       "      <td>10544040</td>\n",
       "      <td>CEN</td>\n",
       "    </tr>\n",
       "    <tr>\n",
       "      <th>73</th>\n",
       "      <td>24</td>\n",
       "      <td>57217416</td>\n",
       "      <td>57227415</td>\n",
       "      <td>T2</td>\n",
       "    </tr>\n",
       "  </tbody>\n",
       "</table>\n",
       "<p>74 rows × 4 columns</p>\n",
       "</div>"
      ]
     },
     "execution_count": 10,
     "metadata": {},
     "output_type": "execute_result"
    }
   ],
   "execution_count": 10
  },
  {
   "metadata": {},
   "cell_type": "markdown",
   "source": [
    "# Find identical overlaps\n",
    "- segdup is a subgroup of superdup"
   ],
   "id": "bf14a97496148aac"
  },
  {
   "metadata": {
    "ExecuteTime": {
     "end_time": "2024-09-16T20:49:33.642869Z",
     "start_time": "2024-09-16T20:49:33.581855Z"
    }
   },
   "cell_type": "code",
   "source": [
    "# Merge all DataFrames\n",
    "merged_df = pd.concat([sv_solve37, cnv_mask, superdup, ATC], ignore_index=True)\n",
    "merged_df = merged_df.sort_values(by=['Chr', 'StartPos', 'EndPos'])"
   ],
   "id": "976e0661eec309cf",
   "outputs": [],
   "execution_count": 11
  },
  {
   "metadata": {
    "ExecuteTime": {
     "end_time": "2024-09-16T20:49:38.736205Z",
     "start_time": "2024-09-16T20:49:33.724886Z"
    }
   },
   "cell_type": "code",
   "source": [
    "# merge identical overlaps\n",
    "temp_dict = {}\n",
    "for idx, row in merged_df.iterrows():\n",
    "    key = (row['Chr'], row['StartPos'], row['EndPos'])\n",
    "    if key not in temp_dict:\n",
    "        temp_dict[key] = {\n",
    "                'Chr': row['Chr'],\n",
    "                'StartPos': row['StartPos'],\n",
    "                'EndPos': row['EndPos'],\n",
    "                'Type': [row['Type']]\n",
    "        }\n",
    "    else:\n",
    "        temp_dict[key]['Type'].append(row['Type'])\n",
    "temp_dict2 = {'Chr': [], 'StartPos': [], 'EndPos': [], 'Type': []}\n",
    "for key, val in temp_dict.items():\n",
    "    temp_dict2['Chr'].append(val['Chr'])\n",
    "    temp_dict2['StartPos'].append(val['StartPos'])\n",
    "    temp_dict2['EndPos'].append(val['EndPos'])\n",
    "    temp_dict2['Type'].append(val['Type'])\n",
    "new_df = pd.DataFrame.from_dict(temp_dict2)\n",
    "merged_df = new_df\n",
    "merged_df['Type'] = merged_df['Type'].apply(set)"
   ],
   "id": "98305680cd96e86e",
   "outputs": [],
   "execution_count": 12
  },
  {
   "metadata": {
    "ExecuteTime": {
     "end_time": "2024-09-16T20:49:38.891240Z",
     "start_time": "2024-09-16T20:49:38.808221Z"
    }
   },
   "cell_type": "code",
   "source": [
    "temp_df = merged_df.copy(deep=True)\n",
    "temp_df['Type'] = temp_df['Type'].apply(str)\n",
    "temp_df['Type'].unique()"
   ],
   "id": "ce376a3f1ca19dc",
   "outputs": [
    {
     "data": {
      "text/plain": [
       "array([\"{'T1', 'gap'}\", \"{'common'}\", \"{'superdup'}\",\n",
       "       \"{'superdup', 'segdupe'}\", \"{'cnv'}\", \"{'gap'}\", \"{'CEN'}\",\n",
       "       \"{'T2', 'gap'}\", \"{'T2'}\", \"{'T1'}\", \"{'AT1'}\", \"{'ACEN'}\",\n",
       "       \"{'AR'}\"], dtype=object)"
      ]
     },
     "execution_count": 13,
     "metadata": {},
     "output_type": "execute_result"
    }
   ],
   "execution_count": 13
  },
  {
   "metadata": {
    "ExecuteTime": {
     "end_time": "2024-09-16T20:49:39.016269Z",
     "start_time": "2024-09-16T20:49:38.984260Z"
    }
   },
   "cell_type": "code",
   "source": "temp_df[(temp_df['Type'] == \"{'T1', 'gap'}\") | (temp_df['Type'] == \"{'T1'}\") | (temp_df['Type'] == \"{'gap'}\")]",
   "id": "6f5cde17180db607",
   "outputs": [
    {
     "data": {
      "text/plain": [
       "       Chr  StartPos    EndPos           Type\n",
       "0        1         1     10000  {'T1', 'gap'}\n",
       "99       1    207667    257666        {'gap'}\n",
       "133      1    297969    347968        {'gap'}\n",
       "227      1    535989    585988        {'gap'}\n",
       "401      1   2702782   2746290        {'gap'}\n",
       "...    ...       ...       ...            ...\n",
       "49456   24  11592903  11642902        {'gap'}\n",
       "49567   24  20207794  20257793        {'gap'}\n",
       "49614   24  21789282  21805281        {'gap'}\n",
       "50043   24  26673215  56673214        {'gap'}\n",
       "50064   24  56771510  56821509        {'gap'}\n",
       "\n",
       "[276 rows x 4 columns]"
      ],
      "text/html": [
       "<div>\n",
       "<style scoped>\n",
       "    .dataframe tbody tr th:only-of-type {\n",
       "        vertical-align: middle;\n",
       "    }\n",
       "\n",
       "    .dataframe tbody tr th {\n",
       "        vertical-align: top;\n",
       "    }\n",
       "\n",
       "    .dataframe thead th {\n",
       "        text-align: right;\n",
       "    }\n",
       "</style>\n",
       "<table border=\"1\" class=\"dataframe\">\n",
       "  <thead>\n",
       "    <tr style=\"text-align: right;\">\n",
       "      <th></th>\n",
       "      <th>Chr</th>\n",
       "      <th>StartPos</th>\n",
       "      <th>EndPos</th>\n",
       "      <th>Type</th>\n",
       "    </tr>\n",
       "  </thead>\n",
       "  <tbody>\n",
       "    <tr>\n",
       "      <th>0</th>\n",
       "      <td>1</td>\n",
       "      <td>1</td>\n",
       "      <td>10000</td>\n",
       "      <td>{'T1', 'gap'}</td>\n",
       "    </tr>\n",
       "    <tr>\n",
       "      <th>99</th>\n",
       "      <td>1</td>\n",
       "      <td>207667</td>\n",
       "      <td>257666</td>\n",
       "      <td>{'gap'}</td>\n",
       "    </tr>\n",
       "    <tr>\n",
       "      <th>133</th>\n",
       "      <td>1</td>\n",
       "      <td>297969</td>\n",
       "      <td>347968</td>\n",
       "      <td>{'gap'}</td>\n",
       "    </tr>\n",
       "    <tr>\n",
       "      <th>227</th>\n",
       "      <td>1</td>\n",
       "      <td>535989</td>\n",
       "      <td>585988</td>\n",
       "      <td>{'gap'}</td>\n",
       "    </tr>\n",
       "    <tr>\n",
       "      <th>401</th>\n",
       "      <td>1</td>\n",
       "      <td>2702782</td>\n",
       "      <td>2746290</td>\n",
       "      <td>{'gap'}</td>\n",
       "    </tr>\n",
       "    <tr>\n",
       "      <th>...</th>\n",
       "      <td>...</td>\n",
       "      <td>...</td>\n",
       "      <td>...</td>\n",
       "      <td>...</td>\n",
       "    </tr>\n",
       "    <tr>\n",
       "      <th>49456</th>\n",
       "      <td>24</td>\n",
       "      <td>11592903</td>\n",
       "      <td>11642902</td>\n",
       "      <td>{'gap'}</td>\n",
       "    </tr>\n",
       "    <tr>\n",
       "      <th>49567</th>\n",
       "      <td>24</td>\n",
       "      <td>20207794</td>\n",
       "      <td>20257793</td>\n",
       "      <td>{'gap'}</td>\n",
       "    </tr>\n",
       "    <tr>\n",
       "      <th>49614</th>\n",
       "      <td>24</td>\n",
       "      <td>21789282</td>\n",
       "      <td>21805281</td>\n",
       "      <td>{'gap'}</td>\n",
       "    </tr>\n",
       "    <tr>\n",
       "      <th>50043</th>\n",
       "      <td>24</td>\n",
       "      <td>26673215</td>\n",
       "      <td>56673214</td>\n",
       "      <td>{'gap'}</td>\n",
       "    </tr>\n",
       "    <tr>\n",
       "      <th>50064</th>\n",
       "      <td>24</td>\n",
       "      <td>56771510</td>\n",
       "      <td>56821509</td>\n",
       "      <td>{'gap'}</td>\n",
       "    </tr>\n",
       "  </tbody>\n",
       "</table>\n",
       "<p>276 rows × 4 columns</p>\n",
       "</div>"
      ]
     },
     "execution_count": 14,
     "metadata": {},
     "output_type": "execute_result"
    }
   ],
   "execution_count": 14
  },
  {
   "metadata": {},
   "cell_type": "markdown",
   "source": "# Find all overlaps",
   "id": "623a5c36071354c"
  },
  {
   "metadata": {
    "ExecuteTime": {
     "end_time": "2024-09-16T20:49:39.189306Z",
     "start_time": "2024-09-16T20:49:39.137295Z"
    }
   },
   "cell_type": "code",
   "source": [
    "merged_df = pd.concat([sv_solve37, cnv_mask, superdup, ATC], ignore_index=True)\n",
    "merged_df = merged_df.sort_values(by=['Chr', 'StartPos', 'EndPos'])"
   ],
   "id": "a6b0984a337d0164",
   "outputs": [],
   "execution_count": 15
  },
  {
   "metadata": {
    "ExecuteTime": {
     "end_time": "2024-09-16T20:49:39.314339Z",
     "start_time": "2024-09-16T20:49:39.291330Z"
    }
   },
   "cell_type": "code",
   "source": [
    "starts = merged_df['StartPos'].unique()\n",
    "ends = merged_df['EndPos'].unique()"
   ],
   "id": "57b9fe3fa2c875c7",
   "outputs": [],
   "execution_count": 16
  },
  {
   "metadata": {
    "ExecuteTime": {
     "end_time": "2024-09-16T20:49:39.426361Z",
     "start_time": "2024-09-16T20:49:39.417358Z"
    }
   },
   "cell_type": "code",
   "source": [
    "def val_in_between(start_i, end_i):\n",
    "    starts_in_between = []\n",
    "    ends_in_between = []\n",
    "    for start_itr in starts:\n",
    "        if start_i < start_itr <= end_i:\n",
    "            starts_in_between.append(start_itr)\n",
    "    for end_itr in ends:\n",
    "        if start_i <= end_itr < end_i:\n",
    "            ends_in_between.append(end_itr)\n",
    "    output = [(x, 's') for x in starts_in_between] + [(y, 't') for y in ends_in_between]\n",
    "    output = sorted(output, key=lambda x: x[0])\n",
    "    return output"
   ],
   "id": "e77f69fb124295a5",
   "outputs": [],
   "execution_count": 17
  },
  {
   "metadata": {
    "ExecuteTime": {
     "end_time": "2024-09-16T21:01:13.618952Z",
     "start_time": "2024-09-16T20:49:39.615101Z"
    }
   },
   "cell_type": "code",
   "source": [
    "temp_dict = {}\n",
    "print(f\"total rows: {merged_df.shape[0]}\")\n",
    "c = 0\n",
    "for idx, row in merged_df.iterrows():\n",
    "    if c % 1000 == 0:\n",
    "        print(f\"current row: {c}\")\n",
    "    c += 1\n",
    "    c_chr = row['Chr']\n",
    "    c_type = row['Type']\n",
    "    c_ranges = []\n",
    "    breakpoints = val_in_between(row['StartPos'], row['EndPos'])\n",
    "    new_start = row['StartPos']\n",
    "    for (bp_pos, bp_type) in breakpoints:\n",
    "        if bp_type == 's':\n",
    "            c_ranges.append((new_start, bp_pos - 1))\n",
    "            new_start = bp_pos\n",
    "        else:\n",
    "            c_ranges.append((new_start, bp_pos))\n",
    "            new_start = bp_pos + 1\n",
    "    if new_start <= row['EndPos']:\n",
    "        c_ranges.append((new_start, row['EndPos']))\n",
    "    for range_itr in c_ranges:\n",
    "        c_key = (c_chr, range_itr[0], range_itr[1])\n",
    "        if c_key not in temp_dict:\n",
    "            temp_dict[c_key] = {c_type}\n",
    "        else:\n",
    "            temp_dict[c_key].add(c_type)\n",
    "\n",
    "temp_dict2 = {'Chr': [], 'StartPos': [], 'EndPos': [], 'Type': []}\n",
    "for key, val in temp_dict.items():\n",
    "    temp_dict2['Chr'].append(key[0])\n",
    "    temp_dict2['StartPos'].append(key[1])\n",
    "    temp_dict2['EndPos'].append(key[2])\n",
    "    temp_dict2['Type'].append(val)\n",
    "merged_df = pd.DataFrame.from_dict(temp_dict2)"
   ],
   "id": "fcc28efa40c14d27",
   "outputs": [
    {
     "name": "stdout",
     "output_type": "stream",
     "text": [
      "total rows: 66997\n",
      "current row: 0\n",
      "current row: 1000\n",
      "current row: 2000\n",
      "current row: 3000\n",
      "current row: 4000\n",
      "current row: 5000\n",
      "current row: 6000\n",
      "current row: 7000\n",
      "current row: 8000\n",
      "current row: 9000\n",
      "current row: 10000\n",
      "current row: 11000\n",
      "current row: 12000\n",
      "current row: 13000\n",
      "current row: 14000\n",
      "current row: 15000\n",
      "current row: 16000\n",
      "current row: 17000\n",
      "current row: 18000\n",
      "current row: 19000\n",
      "current row: 20000\n",
      "current row: 21000\n",
      "current row: 22000\n",
      "current row: 23000\n",
      "current row: 24000\n",
      "current row: 25000\n",
      "current row: 26000\n",
      "current row: 27000\n",
      "current row: 28000\n",
      "current row: 29000\n",
      "current row: 30000\n",
      "current row: 31000\n",
      "current row: 32000\n",
      "current row: 33000\n",
      "current row: 34000\n",
      "current row: 35000\n",
      "current row: 36000\n",
      "current row: 37000\n",
      "current row: 38000\n",
      "current row: 39000\n",
      "current row: 40000\n",
      "current row: 41000\n",
      "current row: 42000\n",
      "current row: 43000\n",
      "current row: 44000\n",
      "current row: 45000\n",
      "current row: 46000\n",
      "current row: 47000\n",
      "current row: 48000\n",
      "current row: 49000\n",
      "current row: 50000\n",
      "current row: 51000\n",
      "current row: 52000\n",
      "current row: 53000\n",
      "current row: 54000\n",
      "current row: 55000\n",
      "current row: 56000\n",
      "current row: 57000\n",
      "current row: 58000\n",
      "current row: 59000\n",
      "current row: 60000\n",
      "current row: 61000\n",
      "current row: 62000\n",
      "current row: 63000\n",
      "current row: 64000\n",
      "current row: 65000\n",
      "current row: 66000\n"
     ]
    }
   ],
   "execution_count": 18
  },
  {
   "metadata": {
    "ExecuteTime": {
     "end_time": "2024-09-17T15:05:16.148534Z",
     "start_time": "2024-09-17T15:05:14.455518Z"
    }
   },
   "cell_type": "code",
   "source": [
    "temp_df = merged_df.copy(deep=True)\n",
    "temp_df['Type'] = temp_df['Type'].apply(str)\n",
    "all_combinations = temp_df['Type'].unique()"
   ],
   "id": "848147da3b3ec8bb",
   "outputs": [],
   "execution_count": 21
  },
  {
   "metadata": {
    "ExecuteTime": {
     "end_time": "2024-09-17T15:05:16.164537Z",
     "start_time": "2024-09-17T15:05:16.150534Z"
    }
   },
   "cell_type": "code",
   "source": "[x for x in all_combinations if ('gap' in x) and (('T1' not in x) and ('T2' not in x))]",
   "id": "245da74d290e8fe",
   "outputs": [
    {
     "data": {
      "text/plain": [
       "[\"{'cnv', 'common', 'gap'}\",\n",
       " \"{'cnv', 'gap'}\",\n",
       " \"{'superdup', 'cnv', 'gap'}\",\n",
       " \"{'superdup', 'cnv', 'gap', 'segdupe'}\",\n",
       " \"{'superdup', 'segdupe', 'cnv', 'common', 'gap'}\",\n",
       " \"{'CEN', 'cnv', 'gap'}\",\n",
       " \"{'gap'}\",\n",
       " \"{'superdup', 'cnv', 'common', 'gap'}\",\n",
       " \"{'cnv', 'ACEN', 'gap'}\",\n",
       " \"{'superdup', 'gap'}\",\n",
       " \"{'common', 'gap'}\",\n",
       " \"{'AR', 'cnv', 'gap'}\",\n",
       " \"{'AR', 'cnv', 'common', 'gap'}\",\n",
       " \"{'AR', 'superdup', 'cnv', 'gap'}\",\n",
       " \"{'superdup', 'AR', 'segdupe', 'cnv', 'common', 'gap'}\",\n",
       " \"{'superdup', 'AR', 'segdupe', 'cnv', 'gap'}\",\n",
       " \"{'superdup', 'AR', 'cnv', 'common', 'gap'}\"]"
      ]
     },
     "execution_count": 22,
     "metadata": {},
     "output_type": "execute_result"
    }
   ],
   "execution_count": 22
  },
  {
   "metadata": {
    "ExecuteTime": {
     "end_time": "2024-09-17T15:07:17.986064Z",
     "start_time": "2024-09-17T15:07:17.961059Z"
    }
   },
   "cell_type": "code",
   "source": "merged_df['length'] = merged_df['EndPos'] - merged_df['StartPos'] + 1",
   "id": "47f2768b8211367c",
   "outputs": [],
   "execution_count": 27
  },
  {
   "metadata": {
    "ExecuteTime": {
     "end_time": "2024-09-17T15:12:55.880894Z",
     "start_time": "2024-09-17T15:12:55.856890Z"
    }
   },
   "cell_type": "code",
   "source": "merged_df",
   "id": "dd932238f618434e",
   "outputs": [
    {
     "data": {
      "text/plain": [
       "        Chr  StartPos    EndPos  \\\n",
       "0         1         1       485   \n",
       "1         1       486      4451   \n",
       "2         1      4452      9999   \n",
       "3         1     10000     10000   \n",
       "4         1     10001     10000   \n",
       "...     ...       ...       ...   \n",
       "321393   24  57210167  57210183   \n",
       "321394   24  57210184  57211291   \n",
       "321395   24  57211292  57212320   \n",
       "321396   24  57212321  57217415   \n",
       "321397   24  57217416  57227415   \n",
       "\n",
       "                                                  Type  length  \n",
       "0                                        {'T1', 'gap'}     485  \n",
       "1                                        {'T1', 'gap'}    3966  \n",
       "2                              {'common', 'T1', 'gap'}    5548  \n",
       "3       {'superdup', 'segdupe', 'common', 'T1', 'gap'}       1  \n",
       "4                    {'superdup', 'common', 'segdupe'}       0  \n",
       "...                                                ...     ...  \n",
       "321393                                         {'cnv'}      17  \n",
       "321394                                         {'cnv'}    1108  \n",
       "321395                                         {'cnv'}    1029  \n",
       "321396                                         {'cnv'}    5095  \n",
       "321397                            {'T2', 'cnv', 'gap'}   10000  \n",
       "\n",
       "[321398 rows x 5 columns]"
      ],
      "text/html": [
       "<div>\n",
       "<style scoped>\n",
       "    .dataframe tbody tr th:only-of-type {\n",
       "        vertical-align: middle;\n",
       "    }\n",
       "\n",
       "    .dataframe tbody tr th {\n",
       "        vertical-align: top;\n",
       "    }\n",
       "\n",
       "    .dataframe thead th {\n",
       "        text-align: right;\n",
       "    }\n",
       "</style>\n",
       "<table border=\"1\" class=\"dataframe\">\n",
       "  <thead>\n",
       "    <tr style=\"text-align: right;\">\n",
       "      <th></th>\n",
       "      <th>Chr</th>\n",
       "      <th>StartPos</th>\n",
       "      <th>EndPos</th>\n",
       "      <th>Type</th>\n",
       "      <th>length</th>\n",
       "    </tr>\n",
       "  </thead>\n",
       "  <tbody>\n",
       "    <tr>\n",
       "      <th>0</th>\n",
       "      <td>1</td>\n",
       "      <td>1</td>\n",
       "      <td>485</td>\n",
       "      <td>{'T1', 'gap'}</td>\n",
       "      <td>485</td>\n",
       "    </tr>\n",
       "    <tr>\n",
       "      <th>1</th>\n",
       "      <td>1</td>\n",
       "      <td>486</td>\n",
       "      <td>4451</td>\n",
       "      <td>{'T1', 'gap'}</td>\n",
       "      <td>3966</td>\n",
       "    </tr>\n",
       "    <tr>\n",
       "      <th>2</th>\n",
       "      <td>1</td>\n",
       "      <td>4452</td>\n",
       "      <td>9999</td>\n",
       "      <td>{'common', 'T1', 'gap'}</td>\n",
       "      <td>5548</td>\n",
       "    </tr>\n",
       "    <tr>\n",
       "      <th>3</th>\n",
       "      <td>1</td>\n",
       "      <td>10000</td>\n",
       "      <td>10000</td>\n",
       "      <td>{'superdup', 'segdupe', 'common', 'T1', 'gap'}</td>\n",
       "      <td>1</td>\n",
       "    </tr>\n",
       "    <tr>\n",
       "      <th>4</th>\n",
       "      <td>1</td>\n",
       "      <td>10001</td>\n",
       "      <td>10000</td>\n",
       "      <td>{'superdup', 'common', 'segdupe'}</td>\n",
       "      <td>0</td>\n",
       "    </tr>\n",
       "    <tr>\n",
       "      <th>...</th>\n",
       "      <td>...</td>\n",
       "      <td>...</td>\n",
       "      <td>...</td>\n",
       "      <td>...</td>\n",
       "      <td>...</td>\n",
       "    </tr>\n",
       "    <tr>\n",
       "      <th>321393</th>\n",
       "      <td>24</td>\n",
       "      <td>57210167</td>\n",
       "      <td>57210183</td>\n",
       "      <td>{'cnv'}</td>\n",
       "      <td>17</td>\n",
       "    </tr>\n",
       "    <tr>\n",
       "      <th>321394</th>\n",
       "      <td>24</td>\n",
       "      <td>57210184</td>\n",
       "      <td>57211291</td>\n",
       "      <td>{'cnv'}</td>\n",
       "      <td>1108</td>\n",
       "    </tr>\n",
       "    <tr>\n",
       "      <th>321395</th>\n",
       "      <td>24</td>\n",
       "      <td>57211292</td>\n",
       "      <td>57212320</td>\n",
       "      <td>{'cnv'}</td>\n",
       "      <td>1029</td>\n",
       "    </tr>\n",
       "    <tr>\n",
       "      <th>321396</th>\n",
       "      <td>24</td>\n",
       "      <td>57212321</td>\n",
       "      <td>57217415</td>\n",
       "      <td>{'cnv'}</td>\n",
       "      <td>5095</td>\n",
       "    </tr>\n",
       "    <tr>\n",
       "      <th>321397</th>\n",
       "      <td>24</td>\n",
       "      <td>57217416</td>\n",
       "      <td>57227415</td>\n",
       "      <td>{'T2', 'cnv', 'gap'}</td>\n",
       "      <td>10000</td>\n",
       "    </tr>\n",
       "  </tbody>\n",
       "</table>\n",
       "<p>321398 rows × 5 columns</p>\n",
       "</div>"
      ]
     },
     "execution_count": 33,
     "metadata": {},
     "output_type": "execute_result"
    }
   ],
   "execution_count": 33
  },
  {
   "metadata": {
    "ExecuteTime": {
     "end_time": "2024-09-17T15:12:53.487906Z",
     "start_time": "2024-09-17T15:12:53.172834Z"
    }
   },
   "cell_type": "code",
   "source": "merged_df['Type'] = merged_df['Type'].apply(str)",
   "id": "43cf5593739146e4",
   "outputs": [],
   "execution_count": 32
  },
  {
   "metadata": {
    "ExecuteTime": {
     "end_time": "2024-09-17T15:12:59.665305Z",
     "start_time": "2024-09-17T15:12:59.532742Z"
    }
   },
   "cell_type": "code",
   "source": "merged_df[merged_df['Type'].str.contains('common', na=False)]",
   "id": "9481f76163e17d7",
   "outputs": [
    {
     "data": {
      "text/plain": [
       "        Chr  StartPos    EndPos  \\\n",
       "2         1      4452      9999   \n",
       "3         1     10000     10000   \n",
       "4         1     10001     10000   \n",
       "5         1     10001     10026   \n",
       "6         1     10027     10032   \n",
       "...     ...       ...       ...   \n",
       "301600   24  24991867  24993800   \n",
       "301601   24  24993801  24994352   \n",
       "301602   24  24994353  24996258   \n",
       "301603   24  24996259  24998567   \n",
       "301604   24  24998568  25001032   \n",
       "\n",
       "                                                  Type  length  \n",
       "2                              {'common', 'T1', 'gap'}    5548  \n",
       "3       {'superdup', 'segdupe', 'common', 'T1', 'gap'}       1  \n",
       "4                    {'superdup', 'common', 'segdupe'}       0  \n",
       "5                    {'superdup', 'common', 'segdupe'}      26  \n",
       "6                    {'superdup', 'common', 'segdupe'}       6  \n",
       "...                                                ...     ...  \n",
       "301600        {'superdup', 'cnv', 'common', 'segdupe'}    1934  \n",
       "301601        {'superdup', 'cnv', 'common', 'segdupe'}     552  \n",
       "301602        {'superdup', 'cnv', 'common', 'segdupe'}    1906  \n",
       "301603        {'superdup', 'cnv', 'common', 'segdupe'}    2309  \n",
       "301604        {'superdup', 'cnv', 'common', 'segdupe'}    2465  \n",
       "\n",
       "[23186 rows x 5 columns]"
      ],
      "text/html": [
       "<div>\n",
       "<style scoped>\n",
       "    .dataframe tbody tr th:only-of-type {\n",
       "        vertical-align: middle;\n",
       "    }\n",
       "\n",
       "    .dataframe tbody tr th {\n",
       "        vertical-align: top;\n",
       "    }\n",
       "\n",
       "    .dataframe thead th {\n",
       "        text-align: right;\n",
       "    }\n",
       "</style>\n",
       "<table border=\"1\" class=\"dataframe\">\n",
       "  <thead>\n",
       "    <tr style=\"text-align: right;\">\n",
       "      <th></th>\n",
       "      <th>Chr</th>\n",
       "      <th>StartPos</th>\n",
       "      <th>EndPos</th>\n",
       "      <th>Type</th>\n",
       "      <th>length</th>\n",
       "    </tr>\n",
       "  </thead>\n",
       "  <tbody>\n",
       "    <tr>\n",
       "      <th>2</th>\n",
       "      <td>1</td>\n",
       "      <td>4452</td>\n",
       "      <td>9999</td>\n",
       "      <td>{'common', 'T1', 'gap'}</td>\n",
       "      <td>5548</td>\n",
       "    </tr>\n",
       "    <tr>\n",
       "      <th>3</th>\n",
       "      <td>1</td>\n",
       "      <td>10000</td>\n",
       "      <td>10000</td>\n",
       "      <td>{'superdup', 'segdupe', 'common', 'T1', 'gap'}</td>\n",
       "      <td>1</td>\n",
       "    </tr>\n",
       "    <tr>\n",
       "      <th>4</th>\n",
       "      <td>1</td>\n",
       "      <td>10001</td>\n",
       "      <td>10000</td>\n",
       "      <td>{'superdup', 'common', 'segdupe'}</td>\n",
       "      <td>0</td>\n",
       "    </tr>\n",
       "    <tr>\n",
       "      <th>5</th>\n",
       "      <td>1</td>\n",
       "      <td>10001</td>\n",
       "      <td>10026</td>\n",
       "      <td>{'superdup', 'common', 'segdupe'}</td>\n",
       "      <td>26</td>\n",
       "    </tr>\n",
       "    <tr>\n",
       "      <th>6</th>\n",
       "      <td>1</td>\n",
       "      <td>10027</td>\n",
       "      <td>10032</td>\n",
       "      <td>{'superdup', 'common', 'segdupe'}</td>\n",
       "      <td>6</td>\n",
       "    </tr>\n",
       "    <tr>\n",
       "      <th>...</th>\n",
       "      <td>...</td>\n",
       "      <td>...</td>\n",
       "      <td>...</td>\n",
       "      <td>...</td>\n",
       "      <td>...</td>\n",
       "    </tr>\n",
       "    <tr>\n",
       "      <th>301600</th>\n",
       "      <td>24</td>\n",
       "      <td>24991867</td>\n",
       "      <td>24993800</td>\n",
       "      <td>{'superdup', 'cnv', 'common', 'segdupe'}</td>\n",
       "      <td>1934</td>\n",
       "    </tr>\n",
       "    <tr>\n",
       "      <th>301601</th>\n",
       "      <td>24</td>\n",
       "      <td>24993801</td>\n",
       "      <td>24994352</td>\n",
       "      <td>{'superdup', 'cnv', 'common', 'segdupe'}</td>\n",
       "      <td>552</td>\n",
       "    </tr>\n",
       "    <tr>\n",
       "      <th>301602</th>\n",
       "      <td>24</td>\n",
       "      <td>24994353</td>\n",
       "      <td>24996258</td>\n",
       "      <td>{'superdup', 'cnv', 'common', 'segdupe'}</td>\n",
       "      <td>1906</td>\n",
       "    </tr>\n",
       "    <tr>\n",
       "      <th>301603</th>\n",
       "      <td>24</td>\n",
       "      <td>24996259</td>\n",
       "      <td>24998567</td>\n",
       "      <td>{'superdup', 'cnv', 'common', 'segdupe'}</td>\n",
       "      <td>2309</td>\n",
       "    </tr>\n",
       "    <tr>\n",
       "      <th>301604</th>\n",
       "      <td>24</td>\n",
       "      <td>24998568</td>\n",
       "      <td>25001032</td>\n",
       "      <td>{'superdup', 'cnv', 'common', 'segdupe'}</td>\n",
       "      <td>2465</td>\n",
       "    </tr>\n",
       "  </tbody>\n",
       "</table>\n",
       "<p>23186 rows × 5 columns</p>\n",
       "</div>"
      ]
     },
     "execution_count": 34,
     "metadata": {},
     "output_type": "execute_result"
    }
   ],
   "execution_count": 34
  },
  {
   "metadata": {
    "ExecuteTime": {
     "end_time": "2024-09-17T15:14:15.831960Z",
     "start_time": "2024-09-17T15:14:15.694929Z"
    }
   },
   "cell_type": "code",
   "source": "merged_df[merged_df['Type'].str.contains('common', na=False)]['length'].sum()",
   "id": "bdd1c1013b4618d5",
   "outputs": [
    {
     "data": {
      "text/plain": [
       "26158264"
      ]
     },
     "execution_count": 38,
     "metadata": {},
     "output_type": "execute_result"
    }
   ],
   "execution_count": 38
  },
  {
   "metadata": {
    "ExecuteTime": {
     "end_time": "2024-09-17T15:19:31.550022Z",
     "start_time": "2024-09-17T15:19:31.408990Z"
    }
   },
   "cell_type": "code",
   "source": "merged_df[merged_df['Type'].str.contains('segdupe', na=False)]['length'].sum()",
   "id": "1ec62ce53216b9a8",
   "outputs": [
    {
     "data": {
      "text/plain": [
       "88295249"
      ]
     },
     "execution_count": 39,
     "metadata": {},
     "output_type": "execute_result"
    }
   ],
   "execution_count": 39
  },
  {
   "metadata": {
    "ExecuteTime": {
     "end_time": "2024-09-17T15:22:03.784239Z",
     "start_time": "2024-09-17T15:22:03.426158Z"
    }
   },
   "cell_type": "code",
   "source": [
    "\n",
    "mask1 = merged_df['Type'].str.contains('gap', na=False)\n",
    "mask2 = merged_df['Type'].str.contains('common', na=False)\n",
    "mask3 = merged_df['Type'].str.contains('segdupe', na=False)\n",
    "merged_df[mask1 & mask2 & mask3]['length'].sum()"
   ],
   "id": "6961a6eefeb69b37",
   "outputs": [
    {
     "data": {
      "text/plain": [
       "23"
      ]
     },
     "execution_count": 41,
     "metadata": {},
     "output_type": "execute_result"
    }
   ],
   "execution_count": 41
  },
  {
   "metadata": {
    "ExecuteTime": {
     "end_time": "2024-09-17T15:22:17.455501Z",
     "start_time": "2024-09-17T15:22:17.441497Z"
    }
   },
   "cell_type": "code",
   "source": "merged_df[mask1 & mask2]['length'].sum()",
   "id": "26feae75dd2950d0",
   "outputs": [
    {
     "data": {
      "text/plain": [
       "542039"
      ]
     },
     "execution_count": 42,
     "metadata": {},
     "output_type": "execute_result"
    }
   ],
   "execution_count": 42
  },
  {
   "metadata": {
    "ExecuteTime": {
     "end_time": "2024-09-17T15:22:28.883635Z",
     "start_time": "2024-09-17T15:22:28.874633Z"
    }
   },
   "cell_type": "code",
   "source": "merged_df[mask2 & mask3]['length'].sum()",
   "id": "6c2e4b08d4cafe9b",
   "outputs": [
    {
     "data": {
      "text/plain": [
       "21387054"
      ]
     },
     "execution_count": 43,
     "metadata": {},
     "output_type": "execute_result"
    }
   ],
   "execution_count": 43
  },
  {
   "metadata": {
    "ExecuteTime": {
     "end_time": "2024-09-17T15:22:35.903532Z",
     "start_time": "2024-09-17T15:22:35.888528Z"
    }
   },
   "cell_type": "code",
   "source": "merged_df[mask1 & mask3]['length'].sum()",
   "id": "202fc9c051830eea",
   "outputs": [
    {
     "data": {
      "text/plain": [
       "54"
      ]
     },
     "execution_count": 44,
     "metadata": {},
     "output_type": "execute_result"
    }
   ],
   "execution_count": 44
  },
  {
   "metadata": {
    "ExecuteTime": {
     "end_time": "2024-09-17T15:23:36.675751Z",
     "start_time": "2024-09-17T15:23:36.654746Z"
    }
   },
   "cell_type": "code",
   "source": "merged_df[mask1]['length'].sum()",
   "id": "dfd97180ae5be7a3",
   "outputs": [
    {
     "data": {
      "text/plain": [
       "85960835"
      ]
     },
     "execution_count": 45,
     "metadata": {},
     "output_type": "execute_result"
    }
   ],
   "execution_count": 45
  },
  {
   "metadata": {
    "ExecuteTime": {
     "end_time": "2024-09-17T15:23:42.907242Z",
     "start_time": "2024-09-17T15:23:42.894239Z"
    }
   },
   "cell_type": "code",
   "source": "merged_df[mask2]['length'].sum()",
   "id": "6f354ac6a26ae059",
   "outputs": [
    {
     "data": {
      "text/plain": [
       "26158264"
      ]
     },
     "execution_count": 46,
     "metadata": {},
     "output_type": "execute_result"
    }
   ],
   "execution_count": 46
  },
  {
   "metadata": {
    "ExecuteTime": {
     "end_time": "2024-09-17T15:23:47.994885Z",
     "start_time": "2024-09-17T15:23:47.980883Z"
    }
   },
   "cell_type": "code",
   "source": "merged_df[mask3]['length'].sum()",
   "id": "77ddc9fb819ba8e4",
   "outputs": [
    {
     "data": {
      "text/plain": [
       "88295249"
      ]
     },
     "execution_count": 47,
     "metadata": {},
     "output_type": "execute_result"
    }
   ],
   "execution_count": 47
  },
  {
   "metadata": {
    "ExecuteTime": {
     "end_time": "2024-09-17T15:57:11.402559Z",
     "start_time": "2024-09-17T15:57:11.376553Z"
    }
   },
   "cell_type": "code",
   "source": "merged_df[mask1 | mask2 | mask3]['length'].sum()",
   "id": "8c65332c583404a1",
   "outputs": [
    {
     "data": {
      "text/plain": [
       "178485224"
      ]
     },
     "execution_count": 48,
     "metadata": {},
     "output_type": "execute_result"
    }
   ],
   "execution_count": 48
  },
  {
   "metadata": {
    "ExecuteTime": {
     "end_time": "2024-09-17T15:13:29.435540Z",
     "start_time": "2024-09-17T15:13:14.475169Z"
    }
   },
   "cell_type": "code",
   "source": [
    "sum_region = 0\n",
    "for idx, row in merged_df.iterrows():\n",
    "    if 'common' in merged_df['Type']:\n",
    "        sum_region += row['length']"
   ],
   "id": "41f32a395ed85fe2",
   "outputs": [],
   "execution_count": 35
  },
  {
   "metadata": {
    "ExecuteTime": {
     "end_time": "2024-09-17T15:13:31.606524Z",
     "start_time": "2024-09-17T15:13:31.590521Z"
    }
   },
   "cell_type": "code",
   "source": "print(sum_region)",
   "id": "28cf5a48e8054c80",
   "outputs": [
    {
     "name": "stdout",
     "output_type": "stream",
     "text": [
      "0\n"
     ]
    }
   ],
   "execution_count": 36
  },
  {
   "metadata": {},
   "cell_type": "code",
   "outputs": [],
   "execution_count": null,
   "source": [
    "merged_df['length'] = merged_df['EndPos'] - merged_df['StartPos']\n",
    "sum_region = 0\n",
    "for idx, row in merged_df.iterrows():\n",
    "    if 'gap' in merged_df['Type']:\n",
    "        sum_region += row['length']"
   ],
   "id": "607314d432b1635e"
  }
 ],
 "metadata": {
  "kernelspec": {
   "display_name": "Python 3",
   "language": "python",
   "name": "python3"
  },
  "language_info": {
   "codemirror_mode": {
    "name": "ipython",
    "version": 2
   },
   "file_extension": ".py",
   "mimetype": "text/x-python",
   "name": "python",
   "nbconvert_exporter": "python",
   "pygments_lexer": "ipython2",
   "version": "2.7.6"
  }
 },
 "nbformat": 4,
 "nbformat_minor": 5
}
